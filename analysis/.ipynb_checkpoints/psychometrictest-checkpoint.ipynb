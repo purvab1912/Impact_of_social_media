{
 "cells": [
  {
   "cell_type": "code",
   "execution_count": 1,
   "id": "b5defa05-3d03-4e74-9ce6-53a87eee7674",
   "metadata": {},
   "outputs": [
    {
     "name": "stdout",
     "output_type": "stream",
     "text": [
      "Welcome to the Social Media Usage Assessment\n",
      "\n",
      "Section: Usage Patterns\n",
      "\n",
      "On average, how much time do you spend on social media daily?\n",
      "A. Less than 1 hour\n",
      "B. 1-3 hours\n",
      "C. 4-6 hours\n",
      "D. More than 6 hours\n"
     ]
    },
    {
     "name": "stdin",
     "output_type": "stream",
     "text": [
      "Your answer (A/B/C/D):  C\n"
     ]
    },
    {
     "name": "stdout",
     "output_type": "stream",
     "text": [
      "\n",
      "What is the primary reason you use social media?\n",
      "A. Communication\n",
      "B. Entertainment\n",
      "C. Work/Business\n",
      "D. Information\n"
     ]
    },
    {
     "name": "stdin",
     "output_type": "stream",
     "text": [
      "Your answer (A/B/C/D):  B\n"
     ]
    },
    {
     "name": "stdout",
     "output_type": "stream",
     "text": [
      "\n",
      "How often do you check social media as soon as you wake up?\n",
      "A. Rarely\n",
      "B. Occasionally\n",
      "C. Frequently\n",
      "D. Always\n"
     ]
    },
    {
     "name": "stdin",
     "output_type": "stream",
     "text": [
      "Your answer (A/B/C/D):  D\n"
     ]
    },
    {
     "name": "stdout",
     "output_type": "stream",
     "text": [
      "\n",
      "Section: Psychological Impact\n",
      "\n",
      "Do you feel anxious or restless when you cannot access social media?\n",
      "A. Never\n",
      "B. Sometimes\n",
      "C. Often\n",
      "D. Always\n"
     ]
    },
    {
     "name": "stdin",
     "output_type": "stream",
     "text": [
      "Your answer (A/B/C/D):  C\n"
     ]
    },
    {
     "name": "stdout",
     "output_type": "stream",
     "text": [
      "\n",
      "How often do you compare your life to others on social media?\n",
      "A. Never\n",
      "B. Occasionally\n",
      "C. Frequently\n",
      "D. Always\n"
     ]
    },
    {
     "name": "stdin",
     "output_type": "stream",
     "text": [
      "Your answer (A/B/C/D):  D\n"
     ]
    },
    {
     "name": "stdout",
     "output_type": "stream",
     "text": [
      "\n",
      "Does social media usage affect your self-esteem or self-worth?\n",
      "A. Not at all\n",
      "B. Slightly\n",
      "C. Moderately\n",
      "D. Significantly\n"
     ]
    },
    {
     "name": "stdin",
     "output_type": "stream",
     "text": [
      "Your answer (A/B/C/D):  D\n"
     ]
    },
    {
     "name": "stdout",
     "output_type": "stream",
     "text": [
      "\n",
      "Section: Behavioral Impact\n",
      "\n",
      "Has your social media usage reduced the time spent on productive tasks?\n",
      "A. Never\n",
      "B. Occasionally\n",
      "C. Frequently\n",
      "D. Always\n"
     ]
    },
    {
     "name": "stdin",
     "output_type": "stream",
     "text": [
      "Your answer (A/B/C/D):  C\n"
     ]
    },
    {
     "name": "stdout",
     "output_type": "stream",
     "text": [
      "\n",
      "Do you feel distracted during work/study due to social media notifications?\n",
      "A. Rarely\n",
      "B. Sometimes\n",
      "C. Often\n",
      "D. Always\n"
     ]
    },
    {
     "name": "stdin",
     "output_type": "stream",
     "text": [
      "Your answer (A/B/C/D):  D\n"
     ]
    },
    {
     "name": "stdout",
     "output_type": "stream",
     "text": [
      "\n",
      "Has social media negatively impacted your relationships?\n",
      "A. Never\n",
      "B. Slightly\n",
      "C. Moderately\n",
      "D. Significantly\n"
     ]
    },
    {
     "name": "stdin",
     "output_type": "stream",
     "text": [
      "Your answer (A/B/C/D):  D\n"
     ]
    },
    {
     "name": "stdout",
     "output_type": "stream",
     "text": [
      "\n",
      "Section: Addiction Indicators\n",
      "\n",
      "How difficult do you find it to reduce your social media usage?\n",
      "A. Not difficult\n",
      "B. Slightly difficult\n",
      "C. Moderately difficult\n",
      "D. Extremely difficult\n"
     ]
    },
    {
     "name": "stdin",
     "output_type": "stream",
     "text": [
      "Your answer (A/B/C/D):  C\n"
     ]
    },
    {
     "name": "stdout",
     "output_type": "stream",
     "text": [
      "\n",
      "Have you tried to quit or reduce social media usage but failed?\n",
      "A. Never\n",
      "B. Once\n",
      "C. A few times\n",
      "D. Often\n"
     ]
    },
    {
     "name": "stdin",
     "output_type": "stream",
     "text": [
      "Your answer (A/B/C/D):  D\n"
     ]
    },
    {
     "name": "stdout",
     "output_type": "stream",
     "text": [
      "\n",
      "Do you often lose track of time while using social media?\n",
      "A. Never\n",
      "B. Occasionally\n",
      "C. Frequently\n",
      "D. Always\n"
     ]
    },
    {
     "name": "stdin",
     "output_type": "stream",
     "text": [
      "Your answer (A/B/C/D):  D\n"
     ]
    },
    {
     "name": "stdout",
     "output_type": "stream",
     "text": [
      "\n",
      "\n",
      "--- Assessment Results ---\n",
      "\n",
      "Total Score: 42\n",
      "High Usage: Significant impact; may require intervention.\n"
     ]
    }
   ],
   "source": [
    "class SocialMediaPsychometricTest:\n",
    "    def __init__(self):\n",
    "        self.questions = {\n",
    "            \"Usage Patterns\": [\n",
    "                {\n",
    "                    \"question\": \"On average, how much time do you spend on social media daily?\",\n",
    "                    \"options\": [\"A. Less than 1 hour\", \"B. 1-3 hours\", \"C. 4-6 hours\", \"D. More than 6 hours\"],\n",
    "                },\n",
    "                {\n",
    "                    \"question\": \"What is the primary reason you use social media?\",\n",
    "                    \"options\": [\"A. Communication\", \"B. Entertainment\", \"C. Work/Business\", \"D. Information\"],\n",
    "                },\n",
    "                {\n",
    "                    \"question\": \"How often do you check social media as soon as you wake up?\",\n",
    "                    \"options\": [\"A. Rarely\", \"B. Occasionally\", \"C. Frequently\", \"D. Always\"],\n",
    "                },\n",
    "            ],\n",
    "            \"Psychological Impact\": [\n",
    "                {\n",
    "                    \"question\": \"Do you feel anxious or restless when you cannot access social media?\",\n",
    "                    \"options\": [\"A. Never\", \"B. Sometimes\", \"C. Often\", \"D. Always\"],\n",
    "                },\n",
    "                {\n",
    "                    \"question\": \"How often do you compare your life to others on social media?\",\n",
    "                    \"options\": [\"A. Never\", \"B. Occasionally\", \"C. Frequently\", \"D. Always\"],\n",
    "                },\n",
    "                {\n",
    "                    \"question\": \"Does social media usage affect your self-esteem or self-worth?\",\n",
    "                    \"options\": [\"A. Not at all\", \"B. Slightly\", \"C. Moderately\", \"D. Significantly\"],\n",
    "                },\n",
    "            ],\n",
    "            \"Behavioral Impact\": [\n",
    "                {\n",
    "                    \"question\": \"Has your social media usage reduced the time spent on productive tasks?\",\n",
    "                    \"options\": [\"A. Never\", \"B. Occasionally\", \"C. Frequently\", \"D. Always\"],\n",
    "                },\n",
    "                {\n",
    "                    \"question\": \"Do you feel distracted during work/study due to social media notifications?\",\n",
    "                    \"options\": [\"A. Rarely\", \"B. Sometimes\", \"C. Often\", \"D. Always\"],\n",
    "                },\n",
    "                {\n",
    "                    \"question\": \"Has social media negatively impacted your relationships?\",\n",
    "                    \"options\": [\"A. Never\", \"B. Slightly\", \"C. Moderately\", \"D. Significantly\"],\n",
    "                },\n",
    "            ],\n",
    "            \"Addiction Indicators\": [\n",
    "                {\n",
    "                    \"question\": \"How difficult do you find it to reduce your social media usage?\",\n",
    "                    \"options\": [\"A. Not difficult\", \"B. Slightly difficult\", \"C. Moderately difficult\", \"D. Extremely difficult\"],\n",
    "                },\n",
    "                {\n",
    "                    \"question\": \"Have you tried to quit or reduce social media usage but failed?\",\n",
    "                    \"options\": [\"A. Never\", \"B. Once\", \"C. A few times\", \"D. Often\"],\n",
    "                },\n",
    "                {\n",
    "                    \"question\": \"Do you often lose track of time while using social media?\",\n",
    "                    \"options\": [\"A. Never\", \"B. Occasionally\", \"C. Frequently\", \"D. Always\"],\n",
    "                },\n",
    "            ],\n",
    "        }\n",
    "        self.scores = []\n",
    "\n",
    "    def ask_questions(self):\n",
    "        print(\"Welcome to the Social Media Usage Assessment\\n\")\n",
    "        for section, questions in self.questions.items():\n",
    "            print(f\"Section: {section}\\n\")\n",
    "            for q in questions:\n",
    "                print(q[\"question\"])\n",
    "                for option in q[\"options\"]:\n",
    "                    print(option)\n",
    "                answer = input(\"Your answer (A/B/C/D): \").strip().upper()\n",
    "                while answer not in [\"A\", \"B\", \"C\", \"D\"]:\n",
    "                    print(\"Invalid input. Please enter A, B, C, or D.\")\n",
    "                    answer = input(\"Your answer (A/B/C/D): \").strip().upper()\n",
    "                self.scores.append(self.get_score(answer))\n",
    "                print()\n",
    "\n",
    "    @staticmethod\n",
    "    def get_score(answer):\n",
    "        score_mapping = {\"A\": 1, \"B\": 2, \"C\": 3, \"D\": 4}\n",
    "        return score_mapping[answer]\n",
    "\n",
    "    def calculate_results(self):\n",
    "        total_score = sum(self.scores)\n",
    "        print(\"\\n--- Assessment Results ---\\n\")\n",
    "        print(f\"Total Score: {total_score}\")\n",
    "\n",
    "        if total_score <= 20:\n",
    "            print(\"Low Usage: Minimal impact on daily life.\")\n",
    "        elif 21 <= total_score <= 35:\n",
    "            print(\"Moderate Usage: Some impact; self-regulation may be needed.\")\n",
    "        elif 36 <= total_score <= 50:\n",
    "            print(\"High Usage: Significant impact; may require intervention.\")\n",
    "        else:\n",
    "            print(\"Addiction Indicators: High scores indicate potential social media addiction.\")\n",
    "\n",
    "if __name__ == \"__main__\":\n",
    "    test = SocialMediaPsychometricTest()\n",
    "    test.ask_questions()\n",
    "    test.calculate_results()\n"
   ]
  },
  {
   "cell_type": "code",
   "execution_count": 2,
   "id": "b8e703cc-3be0-428a-86d4-46aed2849fe9",
   "metadata": {},
   "outputs": [
    {
     "name": "stdout",
     "output_type": "stream",
     "text": [
      "Welcome to the Social Media Usage Assessment\n",
      "\n",
      "Section: Usage Patterns\n",
      "\n",
      "On average, how much time do you spend on social media daily?\n",
      "A. Less than 1 hour\n",
      "B. 1-3 hours\n",
      "C. 4-6 hours\n",
      "D. More than 6 hours\n"
     ]
    },
    {
     "name": "stdin",
     "output_type": "stream",
     "text": [
      "Your answer (A/B/C/D):  C\n"
     ]
    },
    {
     "name": "stdout",
     "output_type": "stream",
     "text": [
      "\n",
      "What is the primary reason you use social media?\n",
      "A. Communication\n",
      "B. Entertainment\n",
      "C. Work/Business\n",
      "D. Information\n"
     ]
    },
    {
     "name": "stdin",
     "output_type": "stream",
     "text": [
      "Your answer (A/B/C/D):  A\n"
     ]
    },
    {
     "name": "stdout",
     "output_type": "stream",
     "text": [
      "\n",
      "How often do you check social media as soon as you wake up?\n",
      "A. Rarely\n",
      "B. Occasionally\n",
      "C. Frequently\n",
      "D. Always\n"
     ]
    },
    {
     "name": "stdin",
     "output_type": "stream",
     "text": [
      "Your answer (A/B/C/D):  D\n"
     ]
    },
    {
     "name": "stdout",
     "output_type": "stream",
     "text": [
      "\n",
      "Section: Psychological Impact\n",
      "\n",
      "Do you feel anxious or restless when you cannot access social media?\n",
      "A. Never\n",
      "B. Sometimes\n",
      "C. Often\n",
      "D. Always\n"
     ]
    },
    {
     "name": "stdin",
     "output_type": "stream",
     "text": [
      "Your answer (A/B/C/D):  C\n"
     ]
    },
    {
     "name": "stdout",
     "output_type": "stream",
     "text": [
      "\n",
      "How often do you compare your life to others on social media?\n",
      "A. Never\n",
      "B. Occasionally\n",
      "C. Frequently\n",
      "D. Always\n"
     ]
    },
    {
     "name": "stdin",
     "output_type": "stream",
     "text": [
      "Your answer (A/B/C/D):  B\n"
     ]
    },
    {
     "name": "stdout",
     "output_type": "stream",
     "text": [
      "\n",
      "Does social media usage affect your self-esteem or self-worth?\n",
      "A. Not at all\n",
      "B. Slightly\n",
      "C. Moderately\n",
      "D. Significantly\n"
     ]
    },
    {
     "name": "stdin",
     "output_type": "stream",
     "text": [
      "Your answer (A/B/C/D):  D\n"
     ]
    },
    {
     "name": "stdout",
     "output_type": "stream",
     "text": [
      "\n",
      "Section: Behavioral Impact\n",
      "\n",
      "Has your social media usage reduced the time spent on productive tasks?\n",
      "A. Never\n",
      "B. Occasionally\n",
      "C. Frequently\n",
      "D. Always\n"
     ]
    },
    {
     "name": "stdin",
     "output_type": "stream",
     "text": [
      "Your answer (A/B/C/D):  A\n"
     ]
    },
    {
     "name": "stdout",
     "output_type": "stream",
     "text": [
      "\n",
      "Do you feel distracted during work/study due to social media notifications?\n",
      "A. Rarely\n",
      "B. Sometimes\n",
      "C. Often\n",
      "D. Always\n"
     ]
    },
    {
     "name": "stdin",
     "output_type": "stream",
     "text": [
      "Your answer (A/B/C/D):  C\n"
     ]
    },
    {
     "name": "stdout",
     "output_type": "stream",
     "text": [
      "\n",
      "Has social media negatively impacted your relationships?\n",
      "A. Never\n",
      "B. Slightly\n",
      "C. Moderately\n",
      "D. Significantly\n"
     ]
    },
    {
     "name": "stdin",
     "output_type": "stream",
     "text": [
      "Your answer (A/B/C/D):  D\n"
     ]
    },
    {
     "name": "stdout",
     "output_type": "stream",
     "text": [
      "\n",
      "Section: Addiction Indicators\n",
      "\n",
      "How difficult do you find it to reduce your social media usage?\n",
      "A. Not difficult\n",
      "B. Slightly difficult\n",
      "C. Moderately difficult\n",
      "D. Extremely difficult\n"
     ]
    },
    {
     "name": "stdin",
     "output_type": "stream",
     "text": [
      "Your answer (A/B/C/D):  B\n"
     ]
    },
    {
     "name": "stdout",
     "output_type": "stream",
     "text": [
      "\n",
      "Have you tried to quit or reduce social media usage but failed?\n",
      "A. Never\n",
      "B. Once\n",
      "C. A few times\n",
      "D. Often\n"
     ]
    },
    {
     "name": "stdin",
     "output_type": "stream",
     "text": [
      "Your answer (A/B/C/D):  A\n"
     ]
    },
    {
     "name": "stdout",
     "output_type": "stream",
     "text": [
      "\n",
      "Do you often lose track of time while using social media?\n",
      "A. Never\n",
      "B. Occasionally\n",
      "C. Frequently\n",
      "D. Always\n"
     ]
    },
    {
     "name": "stdin",
     "output_type": "stream",
     "text": [
      "Your answer (A/B/C/D):  C\n"
     ]
    },
    {
     "name": "stdout",
     "output_type": "stream",
     "text": [
      "\n",
      "\n",
      "--- Assessment Results ---\n",
      "\n",
      "Total Score: 31\n",
      "Moderate Usage: Some impact; self-regulation may be needed.\n"
     ]
    },
    {
     "data": {
      "image/png": "[encoded data removed]",
      "text/plain": [
       "<Figure size 1000x600 with 2 Axes>"
      ]
     },
     "metadata": {},
     "output_type": "display_data"
    },
    {
     "name": "stdout",
     "output_type": "stream",
     "text": [
      "\n",
      "--- Detailed Report ---\n",
      "Total Score: 31\n",
      "Overall Assessment: Moderate Usage: Some impact; self-regulation may be needed.\n",
      "\n",
      "Section-wise Breakdown:\n",
      "Usage Patterns: 8 points\n",
      "Psychological Impact: 9 points\n",
      "Behavioral Impact: 8 points\n",
      "Addiction Indicators: 6 points\n"
     ]
    }
   ],
   "source": [
    "import matplotlib.pyplot as plt\n",
    "\n",
    "class SocialMediaPsychometricTest:\n",
    "    def __init__(self):\n",
    "        self.questions = {\n",
    "            \"Usage Patterns\": [\n",
    "                {\n",
    "                    \"question\": \"On average, how much time do you spend on social media daily?\",\n",
    "                    \"options\": [\"A. Less than 1 hour\", \"B. 1-3 hours\", \"C. 4-6 hours\", \"D. More than 6 hours\"],\n",
    "                },\n",
    "                {\n",
    "                    \"question\": \"What is the primary reason you use social media?\",\n",
    "                    \"options\": [\"A. Communication\", \"B. Entertainment\", \"C. Work/Business\", \"D. Information\"],\n",
    "                },\n",
    "                {\n",
    "                    \"question\": \"How often do you check social media as soon as you wake up?\",\n",
    "                    \"options\": [\"A. Rarely\", \"B. Occasionally\", \"C. Frequently\", \"D. Always\"],\n",
    "                },\n",
    "            ],\n",
    "            \"Psychological Impact\": [\n",
    "                {\n",
    "                    \"question\": \"Do you feel anxious or restless when you cannot access social media?\",\n",
    "                    \"options\": [\"A. Never\", \"B. Sometimes\", \"C. Often\", \"D. Always\"],\n",
    "                },\n",
    "                {\n",
    "                    \"question\": \"How often do you compare your life to others on social media?\",\n",
    "                    \"options\": [\"A. Never\", \"B. Occasionally\", \"C. Frequently\", \"D. Always\"],\n",
    "                },\n",
    "                {\n",
    "                    \"question\": \"Does social media usage affect your self-esteem or self-worth?\",\n",
    "                    \"options\": [\"A. Not at all\", \"B. Slightly\", \"C. Moderately\", \"D. Significantly\"],\n",
    "                },\n",
    "            ],\n",
    "            \"Behavioral Impact\": [\n",
    "                {\n",
    "                    \"question\": \"Has your social media usage reduced the time spent on productive tasks?\",\n",
    "                    \"options\": [\"A. Never\", \"B. Occasionally\", \"C. Frequently\", \"D. Always\"],\n",
    "                },\n",
    "                {\n",
    "                    \"question\": \"Do you feel distracted during work/study due to social media notifications?\",\n",
    "                    \"options\": [\"A. Rarely\", \"B. Sometimes\", \"C. Often\", \"D. Always\"],\n",
    "                },\n",
    "                {\n",
    "                    \"question\": \"Has social media negatively impacted your relationships?\",\n",
    "                    \"options\": [\"A. Never\", \"B. Slightly\", \"C. Moderately\", \"D. Significantly\"],\n",
    "                },\n",
    "            ],\n",
    "            \"Addiction Indicators\": [\n",
    "                {\n",
    "                    \"question\": \"How difficult do you find it to reduce your social media usage?\",\n",
    "                    \"options\": [\"A. Not difficult\", \"B. Slightly difficult\", \"C. Moderately difficult\", \"D. Extremely difficult\"],\n",
    "                },\n",
    "                {\n",
    "                    \"question\": \"Have you tried to quit or reduce social media usage but failed?\",\n",
    "                    \"options\": [\"A. Never\", \"B. Once\", \"C. A few times\", \"D. Often\"],\n",
    "                },\n",
    "                {\n",
    "                    \"question\": \"Do you often lose track of time while using social media?\",\n",
    "                    \"options\": [\"A. Never\", \"B. Occasionally\", \"C. Frequently\", \"D. Always\"],\n",
    "                },\n",
    "            ],\n",
    "        }\n",
    "        self.scores = []\n",
    "\n",
    "    def ask_questions(self):\n",
    "        print(\"Welcome to the Social Media Usage Assessment\\n\")\n",
    "        for section, questions in self.questions.items():\n",
    "            print(f\"Section: {section}\\n\")\n",
    "            for q in questions:\n",
    "                print(q[\"question\"])\n",
    "                for option in q[\"options\"]:\n",
    "                    print(option)\n",
    "                answer = input(\"Your answer (A/B/C/D): \").strip().upper()\n",
    "                while answer not in [\"A\", \"B\", \"C\", \"D\"]:\n",
    "                    print(\"Invalid input. Please enter A, B, C, or D.\")\n",
    "                    answer = input(\"Your answer (A/B/C/D): \").strip().upper()\n",
    "                self.scores.append(self.get_score(answer))\n",
    "                print()\n",
    "\n",
    "    @staticmethod\n",
    "    def get_score(answer):\n",
    "        score_mapping = {\"A\": 1, \"B\": 2, \"C\": 3, \"D\": 4}\n",
    "        return score_mapping[answer]\n",
    "\n",
    "    def calculate_results(self):\n",
    "        total_score = sum(self.scores)\n",
    "        print(\"\\n--- Assessment Results ---\\n\")\n",
    "        print(f\"Total Score: {total_score}\")\n",
    "\n",
    "        if total_score <= 20:\n",
    "            result = \"Low Usage: Minimal impact on daily life.\"\n",
    "        elif 21 <= total_score <= 35:\n",
    "            result = \"Moderate Usage: Some impact; self-regulation may be needed.\"\n",
    "        elif 36 <= total_score <= 50:\n",
    "            result = \"High Usage: Significant impact; may require intervention.\"\n",
    "        else:\n",
    "            result = \"Addiction Indicators: High scores indicate potential social media addiction.\"\n",
    "\n",
    "        print(result)\n",
    "        self.visualize_results(total_score, result)\n",
    "\n",
    "    def visualize_results(self, total_score, result):\n",
    "        labels = [\"Usage Patterns\", \"Psychological Impact\", \"Behavioral Impact\", \"Addiction Indicators\"]\n",
    "        sections = [sum(self.scores[:3]), sum(self.scores[3:6]), sum(self.scores[6:9]), sum(self.scores[9:])]\n",
    "\n",
    "        plt.figure(figsize=(10, 6))\n",
    "\n",
    "        # Pie chart\n",
    "        plt.subplot(1, 2, 1)\n",
    "        plt.pie(sections, labels=labels, autopct='%1.1f%%', startangle=140, colors=[\"#ff9999\", \"#66b3ff\", \"#99ff99\", \"#ffcc99\"])\n",
    "        plt.title(\"Score Distribution by Section\")\n",
    "\n",
    "        # Bar chart\n",
    "        plt.subplot(1, 2, 2)\n",
    "        plt.bar(labels, sections, color=[\"#ff9999\", \"#66b3ff\", \"#99ff99\", \"#ffcc99\"])\n",
    "        plt.title(\"Scores per Section\")\n",
    "        plt.ylabel(\"Scores\")\n",
    "        plt.xticks(rotation=15)\n",
    "\n",
    "        plt.tight_layout()\n",
    "        plt.show()\n",
    "\n",
    "        # Report\n",
    "        self.generate_report(total_score, result, sections)\n",
    "\n",
    "    def generate_report(self, total_score, result, sections):\n",
    "        print(\"\\n--- Detailed Report ---\")\n",
    "        print(f\"Total Score: {total_score}\")\n",
    "        print(f\"Overall Assessment: {result}\\n\")\n",
    "        print(\"Section-wise Breakdown:\")\n",
    "        labels = [\"Usage Patterns\", \"Psychological Impact\", \"Behavioral Impact\", \"Addiction Indicators\"]\n",
    "        for label, score in zip(labels, sections):\n",
    "            print(f\"{label}: {score} points\")\n",
    "\n",
    "if __name__ == \"__main__\":\n",
    "    test = SocialMediaPsychometricTest()\n",
    "    test.ask_questions()\n",
    "    test.calculate_results()\n"
   ]
  },
  {
   "cell_type": "code",
   "execution_count": null,
   "id": "4f455650-11e6-48fc-a648-f4673c711540",
   "metadata": {},
   "outputs": [],
   "source": []
  }
 ],
 "metadata": {
  "kernelspec": {
   "display_name": "Python 3 (ipykernel)",
   "language": "python",
   "name": "python3"
  },
  "language_info": {
   "codemirror_mode": {
    "name": "ipython",
    "version": 3
   },
   "file_extension": ".py",
   "mimetype": "text/x-python",
   "name": "python",
   "nbconvert_exporter": "python",
   "pygments_lexer": "ipython3",
   "version": "3.12.6"
  }
 },
 "nbformat": 4,
 "nbformat_minor": 5
}
